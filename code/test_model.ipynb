{
 "cells": [
  {
   "cell_type": "code",
   "execution_count": 1,
   "metadata": {},
   "outputs": [],
   "source": [
    "import configure_v7 as config\n",
    "import utils_v7 as utils\n",
    "import pickle\n",
    "import scipy.io\n",
    "import glob\n",
    "import numpy as np"
   ]
  },
  {
   "cell_type": "code",
   "execution_count": 2,
   "metadata": {},
   "outputs": [],
   "source": [
    "from sklearn.model_selection import train_test_split\n",
    "import numpy as np\n",
    "import torch\n",
    "def data_formulate(data, adj_name = 'State_adj',test_size = 0.5, shuffle=False):\n",
    "    # State_adj\n",
    "    x_data = np.array(data[\n",
    "        'X'],dtype=np.float16)  # shape (26,550,1289) (Task ID (Spatial location), Sample (Temporal-Days), Features(TF-IDF)) # Civil Unrest Data\n",
    "    y_data = np.array(data['Y5'],dtype=np.float16)  # shape (26, 550) # argentina: Y5\n",
    "    adj_data = np.array(data[adj_name],dtype=np.float16)  # shape (26, 26)\n",
    "\n",
    "    y_data_3d = np.expand_dims(y_data, axis=2)\n",
    "    data_concat = np.swapaxes(np.concatenate((x_data, y_data_3d), axis=2), 0, 1)\n",
    "    data_train, data_test = train_test_split(data_concat, test_size=test_size, random_state=42, shuffle=shuffle)  # Split the set\n",
    "    with torch.no_grad():\n",
    "        X_train = torch.swapaxes(torch.FloatTensor(data_train[:, :, 0:-1]), 0, 1)  # Shape([26, 275, 1289])\n",
    "        Y_train = torch.swapaxes(torch.FloatTensor(data_train[:, :, -1]), 0, 1)\n",
    "        X_test = torch.swapaxes(torch.FloatTensor(data_test[:, :, 0:-1]), 0, 1)\n",
    "        Y_test = torch.swapaxes(torch.FloatTensor(data_test[:, :, -1]), 0, 1)\n",
    "    values = Y_train.unique()\n",
    "    if values[0] == 0:  # This logic was added for fixing the label issue.\n",
    "        Y_train += 1\n",
    "        Y_test += 1\n",
    "        print('Label increased by 1 to fix the label issue')\n",
    "    return [X_train, Y_train, X_test, Y_test, adj_data]\n",
    "def prediction_from_obj(model_location):\n",
    "    model_load_file = open(model_location, 'rb')\n",
    "    MITOR_V2_trained = pickle.load(model_load_file)\n",
    "    MITOR_V2_trained.W=-MITOR_V2_trained.W\n",
    "    [mze, mae, Y_pred] = MITOR_V2_trained.predict(X_test, Y_test, True)\n",
    "    return [mze, mae, Y_pred]"
   ]
  },
  {
   "cell_type": "code",
   "execution_count": 3,
   "metadata": {},
   "outputs": [
    {
     "name": "stderr",
     "output_type": "stream",
     "text": [
      "C:\\ProgramData\\Anaconda3\\envs\\Incomplete_label_multi_task\\lib\\site-packages\\scipy\\io\\matlab\\mio.py:226: MatReadWarning: Duplicate variable name \"None\" in stream - replacing previous with new\n",
      "Consider mio5.varmats_from_mat to split file into single variable files\n",
      "  matfile_dict = MR.get_variables(variable_names)\n"
     ]
    }
   ],
   "source": [
    "# load data\n",
    "data = scipy.io.loadmat(config.data_location) # data format: dict\n",
    "[X_train, Y_train, X_test, Y_test, adj_data] = data_formulate(data)"
   ]
  },
  {
   "cell_type": "code",
   "execution_count": 4,
   "metadata": {},
   "outputs": [],
   "source": [
    "# Creating the dictionary\n",
    "folder_location = '../saved_model/Flu_11_12_models/'\n",
    "details_mze = {\n",
    "    'Model Name' : []\n",
    "}\n",
    "details_mae = {\n",
    "    'Model Name' : []\n",
    "}\n",
    "for i in range(0, 5001, 250):\n",
    "    details_mze[i]=[]\n",
    "    details_mae[i]=[]\n",
    "for model_location in glob.glob('../saved_model/Flu_11_12_models/*.obj', recursive=True):\n",
    "    date = model_location.split('_MITOR_V2_mlp')[0].split('\\\\')[1]\n",
    "    if date not in details_mze['Model Name']:\n",
    "        details_mze['Model Name'].append(date)\n",
    "        details_mae['Model Name'].append(date)"
   ]
  },
  {
   "cell_type": "code",
   "execution_count": 5,
   "metadata": {},
   "outputs": [],
   "source": [
    "# Populate the dictionary\n",
    "for i, v in enumerate(details_mze['Model Name']):\n",
    "    for j in range(0,5001,250):\n",
    "        if j==0:\n",
    "            model_location = folder_location+v+'_MITOR_V2_mlp.obj'\n",
    "        else:\n",
    "            model_location = folder_location+v+'_MITOR_V2_mlp'+str(j)+'.obj'\n",
    "        try:\n",
    "            [mze, mae, Y_pred] = prediction_from_obj(model_location)\n",
    "            details_mze[j].append(mze)\n",
    "            details_mae[j].append(mae)\n",
    "        except:\n",
    "#             print(model_location)\n",
    "            details_mze[j].append(0)\n",
    "            details_mae[j].append(0)"
   ]
  },
  {
   "cell_type": "code",
   "execution_count": 6,
   "metadata": {},
   "outputs": [],
   "source": [
    "# import pandas library\n",
    "import pandas as pd  \n",
    "# creating a Dataframe object \n",
    "df_mze = pd.DataFrame(details_mze)\n",
    "df_mae = pd.DataFrame(details_mae)"
   ]
  },
  {
   "cell_type": "code",
   "execution_count": 10,
   "metadata": {},
   "outputs": [],
   "source": [
    "df_mze.to_csv(folder_location+'mze_flu_11_12.csv')\n",
    "df_mae.to_csv(folder_location+'mae_flu_11_12.csv')"
   ]
  },
  {
   "cell_type": "code",
   "execution_count": 68,
   "metadata": {},
   "outputs": [],
   "source": [
    "df_mze_transposed = df_mze.T\n",
    "df_mze_transposed.columns = df_mze_transposed.iloc[0]\n",
    "df_mze_transposed = df_mze_transposed.drop(labels='Model Name', axis=0)\n",
    "df_mze_transposed[list(df_mze_transposed.columns)]= df_mze_transposed[list(df_mze_transposed.columns)].astype(float)"
   ]
  },
  {
   "cell_type": "code",
   "execution_count": 69,
   "metadata": {},
   "outputs": [],
   "source": [
    "df_mae_transposed = df_mae.T\n",
    "df_mae_transposed.columns = df_mae_transposed.iloc[0]\n",
    "df_mae_transposed = df_mae_transposed.drop(labels='Model Name', axis=0)\n",
    "df_mae_transposed[list(df_mae_transposed.columns)]= df_mae_transposed[list(df_mae_transposed.columns)].astype(float)"
   ]
  },
  {
   "cell_type": "code",
   "execution_count": 72,
   "metadata": {},
   "outputs": [],
   "source": [
    "min_iter_dict = {'Model Name': details_mze['Model Name'],\n",
    "                'min_mze_val':list(df_mze_transposed[df_mze_transposed > 0].min(axis=0)),\n",
    "                'min_mze_iter':list(df_mze_transposed[df_mze_transposed > 0].idxmin()),\n",
    "                'min_mae_val':list(df_mae_transposed[df_mae_transposed > 0].min(axis=0)),\n",
    "                'min_mae_iter':list(df_mae_transposed[df_mae_transposed > 0].idxmin())}\n",
    "min_iter_df = pd.DataFrame(min_iter_dict)\n",
    "min_iter_df = min_iter_df.dropna()\n",
    "min_iter_df.to_csv(folder_location+'min_flu_11_12.csv')"
   ]
  },
  {
   "cell_type": "code",
   "execution_count": null,
   "metadata": {},
   "outputs": [],
   "source": [
    "import matplotlib.pyplot as mp\n",
    "df_mze_transposed.plot(y=list(df_mze_transposed.columns), use_index=True)"
   ]
  },
  {
   "cell_type": "code",
   "execution_count": 73,
   "metadata": {},
   "outputs": [
    {
     "data": {
      "text/plain": [
       "0.10827119648456573"
      ]
     },
     "execution_count": 73,
     "metadata": {},
     "output_type": "execute_result"
    }
   ],
   "source": [
    "min(list(df_mze_transposed[df_mze_transposed > 0].min(axis=0)))"
   ]
  },
  {
   "cell_type": "code",
   "execution_count": 87,
   "metadata": {},
   "outputs": [],
   "source": [
    "summary_df = pd.read_csv(folder_location+'flu_experiments_summary.csv', index_col=0)  "
   ]
  },
  {
   "cell_type": "code",
   "execution_count": 88,
   "metadata": {},
   "outputs": [
    {
     "data": {
      "text/html": [
       "<div>\n",
       "<style scoped>\n",
       "    .dataframe tbody tr th:only-of-type {\n",
       "        vertical-align: middle;\n",
       "    }\n",
       "\n",
       "    .dataframe tbody tr th {\n",
       "        vertical-align: top;\n",
       "    }\n",
       "\n",
       "    .dataframe thead th {\n",
       "        text-align: right;\n",
       "    }\n",
       "</style>\n",
       "<table border=\"1\" class=\"dataframe\">\n",
       "  <thead>\n",
       "    <tr style=\"text-align: right;\">\n",
       "      <th></th>\n",
       "      <th>Model Name</th>\n",
       "      <th>min_mze_val</th>\n",
       "      <th>min_mze_iter</th>\n",
       "      <th>min_mae_val</th>\n",
       "      <th>min_mae_iter</th>\n",
       "      <th>alpha</th>\n",
       "      <th>beta</th>\n",
       "      <th>rho</th>\n",
       "      <th>lr_ADMM</th>\n",
       "      <th>lr_MLP</th>\n",
       "      <th>hidden_dim</th>\n",
       "      <th>activation</th>\n",
       "      <th>optimizer</th>\n",
       "      <th>weight_decay</th>\n",
       "      <th>tol_L</th>\n",
       "      <th>tol_r</th>\n",
       "      <th>tol_s</th>\n",
       "      <th>tol_r_s</th>\n",
       "      <th>ADI</th>\n",
       "      <th>Max_iter</th>\n",
       "    </tr>\n",
       "    <tr>\n",
       "      <th>Index</th>\n",
       "      <th></th>\n",
       "      <th></th>\n",
       "      <th></th>\n",
       "      <th></th>\n",
       "      <th></th>\n",
       "      <th></th>\n",
       "      <th></th>\n",
       "      <th></th>\n",
       "      <th></th>\n",
       "      <th></th>\n",
       "      <th></th>\n",
       "      <th></th>\n",
       "      <th></th>\n",
       "      <th></th>\n",
       "      <th></th>\n",
       "      <th></th>\n",
       "      <th></th>\n",
       "      <th></th>\n",
       "      <th></th>\n",
       "      <th></th>\n",
       "    </tr>\n",
       "  </thead>\n",
       "  <tbody>\n",
       "    <tr>\n",
       "      <th>0</th>\n",
       "      <td>03_07_2022_23_31_45</td>\n",
       "      <td>0.120339</td>\n",
       "      <td>5000</td>\n",
       "      <td>0.217769</td>\n",
       "      <td>5000</td>\n",
       "      <td>0.0</td>\n",
       "      <td>0.001</td>\n",
       "      <td>10</td>\n",
       "      <td>0.8</td>\n",
       "      <td>0.000000</td>\n",
       "      <td>200</td>\n",
       "      <td>relu</td>\n",
       "      <td>off</td>\n",
       "      <td>0</td>\n",
       "      <td>0.001</td>\n",
       "      <td>1.000000e-10</td>\n",
       "      <td>1.000000e-10</td>\n",
       "      <td>10</td>\n",
       "      <td>5000</td>\n",
       "      <td>1000</td>\n",
       "    </tr>\n",
       "    <tr>\n",
       "      <th>1</th>\n",
       "      <td>04_07_2022_09_46_34</td>\n",
       "      <td>0.137951</td>\n",
       "      <td>1250</td>\n",
       "      <td>0.235479</td>\n",
       "      <td>1250</td>\n",
       "      <td>0.0</td>\n",
       "      <td>0.001</td>\n",
       "      <td>10</td>\n",
       "      <td>0.8</td>\n",
       "      <td>0.000001</td>\n",
       "      <td>200</td>\n",
       "      <td>selu</td>\n",
       "      <td>sgd</td>\n",
       "      <td>0</td>\n",
       "      <td>0.001</td>\n",
       "      <td>1.000000e-10</td>\n",
       "      <td>1.000000e-10</td>\n",
       "      <td>10</td>\n",
       "      <td>5000</td>\n",
       "      <td>1000</td>\n",
       "    </tr>\n",
       "    <tr>\n",
       "      <th>2</th>\n",
       "      <td>04_07_2022_10_29_27</td>\n",
       "      <td>0.109939</td>\n",
       "      <td>4750</td>\n",
       "      <td>0.182545</td>\n",
       "      <td>4750</td>\n",
       "      <td>0.0</td>\n",
       "      <td>0.001</td>\n",
       "      <td>10</td>\n",
       "      <td>0.8</td>\n",
       "      <td>0.000001</td>\n",
       "      <td>200</td>\n",
       "      <td>relu</td>\n",
       "      <td>sgd</td>\n",
       "      <td>0</td>\n",
       "      <td>0.001</td>\n",
       "      <td>1.000000e-10</td>\n",
       "      <td>1.000000e-10</td>\n",
       "      <td>10</td>\n",
       "      <td>5000</td>\n",
       "      <td>1000</td>\n",
       "    </tr>\n",
       "    <tr>\n",
       "      <th>3</th>\n",
       "      <td>04_07_2022_10_38_33</td>\n",
       "      <td>0.108271</td>\n",
       "      <td>500</td>\n",
       "      <td>0.180141</td>\n",
       "      <td>500</td>\n",
       "      <td>0.0</td>\n",
       "      <td>0.001</td>\n",
       "      <td>10</td>\n",
       "      <td>0.8</td>\n",
       "      <td>0.000100</td>\n",
       "      <td>200</td>\n",
       "      <td>relu</td>\n",
       "      <td>sgd</td>\n",
       "      <td>0</td>\n",
       "      <td>0.001</td>\n",
       "      <td>1.000000e-10</td>\n",
       "      <td>1.000000e-10</td>\n",
       "      <td>10</td>\n",
       "      <td>5000</td>\n",
       "      <td>1000</td>\n",
       "    </tr>\n",
       "    <tr>\n",
       "      <th>4</th>\n",
       "      <td>04_07_2022_10_38_42</td>\n",
       "      <td>0.131427</td>\n",
       "      <td>250</td>\n",
       "      <td>0.242494</td>\n",
       "      <td>250</td>\n",
       "      <td>0.0</td>\n",
       "      <td>0.001</td>\n",
       "      <td>10</td>\n",
       "      <td>0.8</td>\n",
       "      <td>0.010000</td>\n",
       "      <td>200</td>\n",
       "      <td>relu</td>\n",
       "      <td>sgd</td>\n",
       "      <td>0</td>\n",
       "      <td>0.001</td>\n",
       "      <td>1.000000e-10</td>\n",
       "      <td>1.000000e-10</td>\n",
       "      <td>10</td>\n",
       "      <td>5000</td>\n",
       "      <td>1000</td>\n",
       "    </tr>\n",
       "  </tbody>\n",
       "</table>\n",
       "</div>"
      ],
      "text/plain": [
       "                Model Name  min_mze_val  min_mze_iter  min_mae_val  \\\n",
       "Index                                                                \n",
       "0      03_07_2022_23_31_45     0.120339          5000     0.217769   \n",
       "1      04_07_2022_09_46_34     0.137951          1250     0.235479   \n",
       "2      04_07_2022_10_29_27     0.109939          4750     0.182545   \n",
       "3      04_07_2022_10_38_33     0.108271           500     0.180141   \n",
       "4      04_07_2022_10_38_42     0.131427           250     0.242494   \n",
       "\n",
       "       min_mae_iter  alpha   beta  rho  lr_ADMM    lr_MLP  hidden_dim  \\\n",
       "Index                                                                   \n",
       "0              5000    0.0  0.001   10      0.8  0.000000         200   \n",
       "1              1250    0.0  0.001   10      0.8  0.000001         200   \n",
       "2              4750    0.0  0.001   10      0.8  0.000001         200   \n",
       "3               500    0.0  0.001   10      0.8  0.000100         200   \n",
       "4               250    0.0  0.001   10      0.8  0.010000         200   \n",
       "\n",
       "      activation optimizer  weight_decay  tol_L         tol_r         tol_s  \\\n",
       "Index                                                                         \n",
       "0           relu       off             0  0.001  1.000000e-10  1.000000e-10   \n",
       "1           selu       sgd             0  0.001  1.000000e-10  1.000000e-10   \n",
       "2           relu       sgd             0  0.001  1.000000e-10  1.000000e-10   \n",
       "3           relu       sgd             0  0.001  1.000000e-10  1.000000e-10   \n",
       "4           relu       sgd             0  0.001  1.000000e-10  1.000000e-10   \n",
       "\n",
       "       tol_r_s   ADI  Max_iter  \n",
       "Index                           \n",
       "0           10  5000      1000  \n",
       "1           10  5000      1000  \n",
       "2           10  5000      1000  \n",
       "3           10  5000      1000  \n",
       "4           10  5000      1000  "
      ]
     },
     "execution_count": 88,
     "metadata": {},
     "output_type": "execute_result"
    }
   ],
   "source": [
    "summary_df.head()"
   ]
  },
  {
   "cell_type": "code",
   "execution_count": 112,
   "metadata": {},
   "outputs": [
    {
     "data": {
      "text/plain": [
       "<matplotlib.axes._subplots.AxesSubplot at 0x13c2ec1c1c8>"
      ]
     },
     "execution_count": 112,
     "metadata": {},
     "output_type": "execute_result"
    },
    {
     "data": {
      "image/png": "[encoded data removed]",
      "text/plain": [
       "<Figure size 432x288 with 1 Axes>"
      ]
     },
     "metadata": {
      "needs_background": "light"
     },
     "output_type": "display_data"
    }
   ],
   "source": [
    "lr_MLP_df = summary_df.groupby('activation').get_group('relu').groupby('optimizer').get_group('sgd').groupby('lr_MLP')\n",
    "# lr_MLP_df['min_mze_val'].min().plot(legend=True,  logx=False, kind = 'bar') \n",
    "lr_MLP_df['min_mae_val'].min().plot(legend=True,  logx=False, kind = 'bar') "
   ]
  },
  {
   "cell_type": "code",
   "execution_count": 124,
   "metadata": {},
   "outputs": [
    {
     "data": {
      "text/plain": [
       "<matplotlib.axes._subplots.AxesSubplot at 0x13c32835c88>"
      ]
     },
     "execution_count": 124,
     "metadata": {},
     "output_type": "execute_result"
    },
    {
     "data": {
      "image/png": "[encoded data removed]",
      "text/plain": [
       "<Figure size 432x288 with 1 Axes>"
      ]
     },
     "metadata": {
      "needs_background": "light"
     },
     "output_type": "display_data"
    }
   ],
   "source": [
    "summary_df.groupby(['lr_MLP', 'optimizer','activation'])['min_mze_val'].min().plot(legend=True,  logx=False, kind = 'bar') \n",
    "summary_df.groupby(['lr_MLP', 'optimizer','activation'])['min_mae_val'].min().plot(legend=True,  logx=False, kind = 'bar') "
   ]
  },
  {
   "cell_type": "code",
   "execution_count": 126,
   "metadata": {},
   "outputs": [
    {
     "data": {
      "text/plain": [
       "<matplotlib.axes._subplots.AxesSubplot at 0x13c329c4648>"
      ]
     },
     "execution_count": 126,
     "metadata": {},
     "output_type": "execute_result"
    },
    {
     "data": {
      "image/png": "[encoded data removed]",
      "text/plain": [
       "<Figure size 432x288 with 1 Axes>"
      ]
     },
     "metadata": {
      "needs_background": "light"
     },
     "output_type": "display_data"
    }
   ],
   "source": [
    "# summary_df.groupby(['lr_MLP', 'optimizer','activation'])['min_mze_iter'].min().plot(legend=True,  logx=False, kind = 'bar') \n",
    "summary_df.groupby(['lr_MLP', 'optimizer','activation'])['min_mae_iter'].min().plot(legend=True,  logx=False, kind = 'bar') \n"
   ]
  },
  {
   "cell_type": "code",
   "execution_count": null,
   "metadata": {},
   "outputs": [],
   "source": []
  }
 ],
 "metadata": {
  "kernelspec": {
   "display_name": "Python [conda env:Incomplete_label_multi_task]",
   "language": "python",
   "name": "conda-env-Incomplete_label_multi_task-py"
  },
  "language_info": {
   "codemirror_mode": {
    "name": "ipython",
    "version": 3
   },
   "file_extension": ".py",
   "mimetype": "text/x-python",
   "name": "python",
   "nbconvert_exporter": "python",
   "pygments_lexer": "ipython3",
   "version": "3.7.11"
  }
 },
 "nbformat": 4,
 "nbformat_minor": 2
}
